{
 "cells": [
  {
   "cell_type": "code",
   "execution_count": 1,
   "metadata": {},
   "outputs": [
    {
     "data": {
      "text/plain": [
       "'3.6.0'"
      ]
     },
     "execution_count": 1,
     "metadata": {},
     "output_type": "execute_result"
    }
   ],
   "source": [
    "import keras\n",
    "keras.__version__"
   ]
  },
  {
   "cell_type": "markdown",
   "metadata": {},
   "source": [
    "# Jena Climate Data Sequence Processing with Deep Learning (Conv2D)\n",
    "\n",
    "This notebook is based on Chapter 6 of *Deep Learning with Python* by François Chollet. It explores sequence processing using recurrent neural networks (RNNs) on the Jena Climate dataset. The dataset contains hourly weather measurements from 2009 to 2016, including attributes like temperature, pressure, and humidity.\n",
    "\n",
    "The objective of this exercise is to predict future temperature values based on historical data. We'll preprocess the data, build models (simple and advanced RNN architectures), and evaluate their performance.\n"
   ]
  },
  {
   "cell_type": "markdown",
   "metadata": {},
   "source": [
    "## Combining CNNs and RNNs to process long sequences\n",
    "\n",
    "\n",
    "Because 1D convnets process input patches independently, they are not sensitive to the order of the timesteps (beyond a local scale, the \n",
    "size of the convolution windows), unlike RNNs. Of course, in order to be able to recognize longer-term patterns, one could stack many \n",
    "convolution layers and pooling layers, resulting in upper layers that would \"see\" long chunks of the original inputs -- but that's still a \n",
    "fairly weak way to induce order-sensitivity. One way to evidence this weakness is to try 1D convnets on the temperature forecasting problem \n",
    "from the previous section, where order-sensitivity was key to produce good predictions. Let's see:"
   ]
  },
  {
   "cell_type": "code",
   "execution_count": 2,
   "metadata": {},
   "outputs": [
    {
     "name": "stdout",
     "output_type": "stream",
     "text": [
      "E:\\Data Science\\Deep Learning - Module 4\\climate\n"
     ]
    }
   ],
   "source": [
    "import os\n",
    "from keras.optimizers import Adam\n",
    "print(os.getcwd())  # This prints the current working directory\n"
   ]
  },
  {
   "cell_type": "markdown",
   "metadata": {},
   "source": [
    "# Data Loading and Preparation\r\n",
    "\r\n",
    "In this section, the Jena Climate dataset is loaded and prepared for analysis. The data file `jena_climate_2009_2016.csv` contains hourly weather measurements over seven years. Each row represents an hour, and the columns include various environmental attributes, such as temperature, pressure, and humidity.\r\n",
    "\r\n",
    "1. **File Reading**: The dataset is read from the CSV file into a string format. This ensures we can process the raw data line by line.\r\n",
    "2. **Data Splitting**: The raw data is split into a header containing column names and lines containing numerical values. Each line corresponds to one hour of climate data.\r\n",
    "3. **Conversion to Numeric Array**: The data is converted into a NumPy array, `float_data`, for efficient mathematical operationsdetest_steps`: Total steps to traverse the test set.\r\n"
   ]
  },
  {
   "cell_type": "code",
   "execution_count": 3,
   "metadata": {},
   "outputs": [],
   "source": [
    "import pandas as pd\n",
    "import numpy as np\n",
    "import os\n",
    "\n",
    "data_dir = r'E:\\Data Science\\Deep Learning - Module 4\\climate'\n",
    "fname = os.path.join(data_dir, 'jena_climate_2009_2016.csv')\n",
    "\n",
    "f = open(fname)\n",
    "data = f.read()\n",
    "f.close()\n",
    "\n",
    "\n",
    "f = open(fname)\n",
    "data = f.read()\n",
    "f.close()\n",
    "\n",
    "lines = data.split('\\n')\n",
    "header = lines[0].split(',')\n",
    "lines = lines[1:]\n",
    "\n",
    "float_data = np.zeros((len(lines), len(header) - 1))\n",
    "for i, line in enumerate(lines):\n",
    "    values = [float(x) for x in line.split(',')[1:]]\n",
    "    float_data[i, :] = values\n"
   ]
  },
  {
   "cell_type": "markdown",
   "metadata": {},
   "source": [
    "\n",
    "# Data Normalization\n",
    "\n",
    "The data is normalized to improve the training stability of the deep learning model. Normalization ensures that all features have a mean of 0 and a standard deviation of 1, which is critical for most machine learning algorithms.\n",
    "\n",
    "- **Mean and Standard Deviation**: The mean and standard deviation are computed using the first 200,000 data points to avoid information leakage from the validation or test sets.\n",
    "- **Normalization Process**: Each data point is normalized by subtracting the mean and dividing by the standard deviation.\n",
    "\n",
    "---"
   ]
  },
  {
   "cell_type": "code",
   "execution_count": 4,
   "metadata": {},
   "outputs": [],
   "source": [
    "mean = float_data[:200000].mean(axis=0)\n",
    "float_data -= mean\n",
    "std = float_data[:200000].std(axis=0)\n",
    "float_data /= std\n",
    "\n"
   ]
  },
  {
   "cell_type": "markdown",
   "metadata": {},
   "source": [
    "# Data Generator Function\n",
    "\n",
    "To handle large datasets efficiently, a generator function is defined. This generator yields batches of data for training, validation, or testing, allowing us to process the dataset in chunks rather than loading the entire dataset into memory.\n",
    "\n",
    "**Key Parameters**:\n",
    "- `lookback`: The number of previous time steps to consider for each sample.\n",
    "- `delay`: The number of time steps into the future for the target variable (e.g., temperature).\n",
    "- `min_index` and `max_index`: Define the range of data to use for a specific generator.\n",
    "- `shuffle`: Determines whether the rows are shuffled or sequential.\n",
    "- `batch_size`: Number of samples per batch.\n",
    "- `step`: Sampling rate; how many time steps to skip between observations.\n",
    "\n",
    "**Output**:\n",
    "- `samples`: A 3D NumPy array of shape `(batch_size, lookback/step, features)`, containing historical data.\n",
    "- `targets`: A 1D NumPy array containing the corresponding future values of the target variable.\n",
    "\n",
    "---\n",
    "\n",
    "# Dataset Splits\n",
    "\n",
    "The dataset is split into three subsets:\n",
    "1. **Training Set**: The first 200,000 data points are used for training the model. This subset is randomized to improve generalization.\n",
    "2. **Validation Set**: The next 100,000 data points (from 200,001 to 300,000) are used for hyperparameter tuning and to evaluate the model's performance during training.\n",
    "3. **Test Set**: The remaining data points (300,001 onwards) are used for final model evaluation on unseen data.\n",
    "\n",
    "---\n",
    "\n"
   ]
  },
  {
   "cell_type": "code",
   "execution_count": 5,
   "metadata": {},
   "outputs": [],
   "source": [
    "def generator(data, lookback, delay, min_index, max_index,\n",
    "              shuffle=False, batch_size=128, step=6):\n",
    "    if max_index is None:\n",
    "        max_index = len(data) - delay - 1\n",
    "    i = min_index + lookback\n",
    "    while 1:\n",
    "        if shuffle:\n",
    "            rows = np.random.randint(\n",
    "                min_index + lookback, max_index, size=batch_size)\n",
    "        else:\n",
    "            if i + batch_size >= max_index:\n",
    "                i = min_index + lookback\n",
    "            rows = np.arange(i, min(i + batch_size, max_index))\n",
    "            i += len(rows)\n",
    "\n",
    "        samples = np.zeros((len(rows),\n",
    "                           lookback // step,\n",
    "                           data.shape[-1]))\n",
    "        targets = np.zeros((len(rows),))\n",
    "        for j, row in enumerate(rows):\n",
    "            indices = range(rows[j] - lookback, rows[j], step)\n",
    "            samples[j] = data[indices]\n",
    "            targets[j] = data[rows[j] + delay][1]\n",
    "        yield samples, targets\n",
    "        \n",
    "\n",
    "\n",
    "\n",
    "lookback = 1440\n",
    "step = 6\n",
    "delay = 144\n",
    "batch_size = 128\n",
    "\n",
    "train_gen = generator(float_data,\n",
    "                      lookback=lookback,\n",
    "                      delay=delay,\n",
    "                      min_index=0,\n",
    "                      max_index=200000,\n",
    "                      shuffle=True,\n",
    "                      step=step, \n",
    "                      batch_size=batch_size)\n",
    "val_gen = generator(float_data,\n",
    "                    lookback=lookback,\n",
    "                    delay=delay,\n",
    "                    min_index=200001,\n",
    "                    max_index=300000,\n",
    "                    step=step,\n",
    "                    batch_size=batch_size)\n",
    "test_gen = generator(float_data,\n",
    "                     lookback=lookback,\n",
    "                     delay=delay,\n",
    "                     min_index=300001,\n",
    "                     max_index=None,\n",
    "                     step=step,\n",
    "                     batch_size=batch_size)"
   ]
  },
  {
   "cell_type": "markdown",
   "metadata": {},
   "source": [
    "# Validation and Test Steps\n",
    "\n",
    "The number of steps required to iterate through the entire validation and test datasets is calculated. This ensures that all data points in these subsets are used during evaluation, accounting for the `lookback` window.\n",
    "\n",
    "- `val_steps`: Total steps to traverse the validation set.\n",
    "- `test_steps`: Total steps to traverse the test set.\n"
   ]
  },
  {
   "cell_type": "code",
   "execution_count": 6,
   "metadata": {},
   "outputs": [],
   "source": [
    "# This is how many steps to draw from `val_gen`\n",
    "# in order to see the whole validation set:\n",
    "val_steps = (300000 - 200001 - lookback) // batch_size\n",
    "\n",
    "# This is how many steps to draw from `test_gen`\n",
    "# in order to see the whole test set:\n",
    "test_steps = (len(float_data) - 300001 - lookback) // batch_size"
   ]
  },
  {
   "cell_type": "markdown",
   "metadata": {},
   "source": [
    "# Model Definition\r\n",
    "\r\n",
    "In this section, we define a Convolutional Neural Network (CNN) model for processing sequential climate data. The model architecture consists of:\r\n",
    "\r\n",
    "1. **Conv1D Layers**:\r\n",
    "   - The model starts with three 1D convolutional layers (`Conv1D`), each with 32 filters and a kernel size of 5. These layers help capture temporal patterns in the sequential data.\r\n",
    "   - The activation function used is ReLU (Rectified Linear Unit), which helps introduce non-linearity to the model.\r\n",
    "\r\n",
    "2. **MaxPooling1D Layers**:\r\n",
    "   - After each convolutional layer, a `MaxPooling1D` layer with a pool size of 3 is applied. This reduces the dimensionality of the output, extracting the most important features.\r\n",
    "\r\n",
    "3. **GlobalMaxPooling1D Layer**:\r\n",
    "   - The `GlobalMaxPooling1D` layer reduces the output to a single value per feature, summarizing the most important feature from the previous layers.\r\n",
    "\r\n",
    "4. **Dense Layer**:\r\n",
    "   - A final dense layer with a single neuron is added. This layer is responsible for producing the output prediction (for instance, the future temperature value).\r\n",
    "\r\n",
    "5. **Compilation**:\r\n",
    "   - The model is compiled with the RMSprop optimizer and mean absolute error (`mae`) as the loss function. RMSprop is chosen as the optimizer to handle noisy gradients in time-series data.\r\n",
    "\r\n",
    "6. **Training**:\r\n",
    "   - The model is trained using the `fit()` method, which is now the standard method in Keras for both regular and generator-based data input. The model is trained for 20 epochs with a batch size defined by `train_gen`, and validation is performed using `val_gen`.\r\n",
    "\r\n",
    "---\r\n",
    "\r\n",
    "# Changes in Code:\r\n",
    "1. **`fit_generator` to `fit`**:\r\n",
    "   - The `fit_generator()` function has been deprecated in newer versions of Keras, so it is replaced with the `fit()` function. Both methods work similarly when using data generators, but `fit()` is now the recommended approach.\r\n"
   ]
  },
  {
   "cell_type": "code",
   "execution_count": 5,
   "metadata": {},
   "outputs": [
    {
     "name": "stderr",
     "output_type": "stream",
     "text": [
      "C:\\Users\\Aksystems\\anaconda3\\Lib\\site-packages\\keras\\src\\layers\\convolutional\\base_conv.py:107: UserWarning: Do not pass an `input_shape`/`input_dim` argument to a layer. When using Sequential models, prefer using an `Input(shape)` object as the first layer in the model instead.\n",
      "  super().__init__(activity_regularizer=activity_regularizer, **kwargs)\n"
     ]
    },
    {
     "name": "stdout",
     "output_type": "stream",
     "text": [
      "Epoch 1/20\n",
      "\u001b[1m500/500\u001b[0m \u001b[32m━━━━━━━━━━━━━━━━━━━━\u001b[0m\u001b[37m\u001b[0m \u001b[1m32s\u001b[0m 62ms/step - loss: 0.4716 - val_loss: 0.4688\n",
      "Epoch 2/20\n",
      "\u001b[1m500/500\u001b[0m \u001b[32m━━━━━━━━━━━━━━━━━━━━\u001b[0m\u001b[37m\u001b[0m \u001b[1m30s\u001b[0m 59ms/step - loss: 0.3645 - val_loss: 0.4633\n",
      "Epoch 3/20\n",
      "\u001b[1m500/500\u001b[0m \u001b[32m━━━━━━━━━━━━━━━━━━━━\u001b[0m\u001b[37m\u001b[0m \u001b[1m30s\u001b[0m 61ms/step - loss: 0.3419 - val_loss: 0.4458\n",
      "Epoch 4/20\n",
      "\u001b[1m500/500\u001b[0m \u001b[32m━━━━━━━━━━━━━━━━━━━━\u001b[0m\u001b[37m\u001b[0m \u001b[1m29s\u001b[0m 58ms/step - loss: 0.3227 - val_loss: 0.4478\n",
      "Epoch 5/20\n",
      "\u001b[1m500/500\u001b[0m \u001b[32m━━━━━━━━━━━━━━━━━━━━\u001b[0m\u001b[37m\u001b[0m \u001b[1m25s\u001b[0m 51ms/step - loss: 0.3088 - val_loss: 0.4434\n",
      "Epoch 6/20\n",
      "\u001b[1m500/500\u001b[0m \u001b[32m━━━━━━━━━━━━━━━━━━━━\u001b[0m\u001b[37m\u001b[0m \u001b[1m25s\u001b[0m 49ms/step - loss: 0.2997 - val_loss: 0.4430\n",
      "Epoch 7/20\n",
      "\u001b[1m500/500\u001b[0m \u001b[32m━━━━━━━━━━━━━━━━━━━━\u001b[0m\u001b[37m\u001b[0m \u001b[1m24s\u001b[0m 48ms/step - loss: 0.2923 - val_loss: 0.4475\n",
      "Epoch 8/20\n",
      "\u001b[1m500/500\u001b[0m \u001b[32m━━━━━━━━━━━━━━━━━━━━\u001b[0m\u001b[37m\u001b[0m \u001b[1m24s\u001b[0m 48ms/step - loss: 0.2861 - val_loss: 0.4766\n",
      "Epoch 9/20\n",
      "\u001b[1m500/500\u001b[0m \u001b[32m━━━━━━━━━━━━━━━━━━━━\u001b[0m\u001b[37m\u001b[0m \u001b[1m24s\u001b[0m 48ms/step - loss: 0.2779 - val_loss: 0.4563\n",
      "Epoch 10/20\n",
      "\u001b[1m500/500\u001b[0m \u001b[32m━━━━━━━━━━━━━━━━━━━━\u001b[0m\u001b[37m\u001b[0m \u001b[1m24s\u001b[0m 49ms/step - loss: 0.2699 - val_loss: 0.4525\n",
      "Epoch 11/20\n",
      "\u001b[1m500/500\u001b[0m \u001b[32m━━━━━━━━━━━━━━━━━━━━\u001b[0m\u001b[37m\u001b[0m \u001b[1m25s\u001b[0m 50ms/step - loss: 0.2672 - val_loss: 0.4515\n",
      "Epoch 12/20\n",
      "\u001b[1m500/500\u001b[0m \u001b[32m━━━━━━━━━━━━━━━━━━━━\u001b[0m\u001b[37m\u001b[0m \u001b[1m25s\u001b[0m 49ms/step - loss: 0.2634 - val_loss: 0.4517\n",
      "Epoch 13/20\n",
      "\u001b[1m500/500\u001b[0m \u001b[32m━━━━━━━━━━━━━━━━━━━━\u001b[0m\u001b[37m\u001b[0m \u001b[1m24s\u001b[0m 48ms/step - loss: 0.2566 - val_loss: 0.4588\n",
      "Epoch 14/20\n",
      "\u001b[1m500/500\u001b[0m \u001b[32m━━━━━━━━━━━━━━━━━━━━\u001b[0m\u001b[37m\u001b[0m \u001b[1m24s\u001b[0m 48ms/step - loss: 0.2533 - val_loss: 0.4629\n",
      "Epoch 15/20\n",
      "\u001b[1m500/500\u001b[0m \u001b[32m━━━━━━━━━━━━━━━━━━━━\u001b[0m\u001b[37m\u001b[0m \u001b[1m24s\u001b[0m 48ms/step - loss: 0.2499 - val_loss: 0.4573\n",
      "Epoch 16/20\n",
      "\u001b[1m500/500\u001b[0m \u001b[32m━━━━━━━━━━━━━━━━━━━━\u001b[0m\u001b[37m\u001b[0m \u001b[1m24s\u001b[0m 48ms/step - loss: 0.2491 - val_loss: 0.4798\n",
      "Epoch 17/20\n",
      "\u001b[1m500/500\u001b[0m \u001b[32m━━━━━━━━━━━━━━━━━━━━\u001b[0m\u001b[37m\u001b[0m \u001b[1m24s\u001b[0m 48ms/step - loss: 0.2460 - val_loss: 0.4714\n",
      "Epoch 18/20\n",
      "\u001b[1m500/500\u001b[0m \u001b[32m━━━━━━━━━━━━━━━━━━━━\u001b[0m\u001b[37m\u001b[0m \u001b[1m25s\u001b[0m 49ms/step - loss: 0.2459 - val_loss: 0.4502\n",
      "Epoch 19/20\n",
      "\u001b[1m500/500\u001b[0m \u001b[32m━━━━━━━━━━━━━━━━━━━━\u001b[0m\u001b[37m\u001b[0m \u001b[1m24s\u001b[0m 49ms/step - loss: 0.2430 - val_loss: 0.4823\n",
      "Epoch 20/20\n",
      "\u001b[1m500/500\u001b[0m \u001b[32m━━━━━━━━━━━━━━━━━━━━\u001b[0m\u001b[37m\u001b[0m \u001b[1m24s\u001b[0m 49ms/step - loss: 0.2402 - val_loss: 0.4685\n"
     ]
    }
   ],
   "source": [
    "from keras.models import Sequential\n",
    "from keras import layers\n",
    "from keras.optimizers import RMSprop\n",
    "\n",
    "model = Sequential()\n",
    "model.add(layers.Conv1D(32, 5, activation='relu',\n",
    "                        input_shape=(None, float_data.shape[-1])))\n",
    "model.add(layers.MaxPooling1D(3))\n",
    "model.add(layers.Conv1D(32, 5, activation='relu'))\n",
    "model.add(layers.MaxPooling1D(3))\n",
    "model.add(layers.Conv1D(32, 5, activation='relu'))\n",
    "model.add(layers.GlobalMaxPooling1D())\n",
    "model.add(layers.Dense(1))\n",
    "\n",
    "model.compile(optimizer=RMSprop(), loss='mae')\n",
    "history = model.fit(train_gen,\n",
    "                              steps_per_epoch=500,\n",
    "                              epochs=20,\n",
    "                              validation_data=val_gen,\n",
    "                              validation_steps=val_steps)"
   ]
  },
  {
   "cell_type": "markdown",
   "metadata": {},
   "source": [
    "Here are our training and validation Mean Absolute Errors:"
   ]
  },
  {
   "cell_type": "code",
   "execution_count": 7,
   "metadata": {},
   "outputs": [
    {
     "data": {
      "image/png": "[encoded data removed]",
      "text/plain": [
       "<Figure size 800x600 with 1 Axes>"
      ]
     },
     "metadata": {},
     "output_type": "display_data"
    }
   ],
   "source": [
    "# Extract the loss history\n",
    "loss = history.history['loss']\n",
    "val_loss = history.history['val_loss']\n",
    "\n",
    "# Create a range for epochs\n",
    "epochs = range(1, len(loss) + 1)\n",
    "\n",
    "# Plot the training and validation loss\n",
    "plt.figure(figsize=(8, 6))\n",
    "plt.plot(epochs, loss, 'bo-', label='Training Loss')\n",
    "plt.plot(epochs, val_loss, 'r*-', label='Validation Loss')\n",
    "plt.title('Training and Validation Loss')\n",
    "plt.xlabel('Epochs')\n",
    "plt.ylabel('Mean Absolute Error (MAE)')\n",
    "plt.legend()\n",
    "plt.grid(True)\n",
    "plt.show()\n"
   ]
  },
  {
   "cell_type": "markdown",
   "metadata": {},
   "source": [
    "# Training Progress and Insights\r\n",
    "\r\n",
    "The model has been trained for 20 epochs with the following results:\r\n",
    "\r\n",
    "- **Loss Behavior**:\r\n",
    "  - The training loss steadily decreases from 0.2491 at epoch 16 to 0.2402 at epoch 20, indicating that the model is progressively learning and improving its ability to predict temperature values over time.\r\n",
    "  - The validation loss shows some fluctuations, starting from 0.4798 at epoch 16 and gradually improving to 0.4502 at epoch 18, but it also increases to 0.4823 at epoch 19 before slightly improving again to 0.4685 at epoch 20.\r\n",
    "\r\n",
    "- **Training vs. Validation Loss**:\r\n",
    "  - The gap between training and validation loss suggests potential overfitting. Although the model is performing well on the training set, there is some indication that it may not generalize perfectly to unseen data.\r\n",
    "\r\n",
    "---\r\n",
    "\r\n",
    "# Change in Data Sampling: Step and Lookback Configuration\r\n",
    "\r\n",
    "- **`step = 3`**:\r\n",
    "  - Previously, the step size was set to 6, which means one data point was selected every hour (hourly sampling). Now, the step is set to 3, meaning the model is trained with one data point every 30 minutes. This allows the model to learn more fine-grained patterns and might improve its predictive capability by utilizing a higher temporal resolution of the data.\r\n",
    "\r\n",
    "- **`lookback = 720`**:\r\n",
    "  - The lookback period remains unchanged. This means the model still uses 720 data points (30 hours) to predict the future values. By decreasing the step size to 3, we now have a larger number of data points per training example (720 data points vs. 360 before).\r\n",
    "\r\n",
    "- **`delay = 144`**:\r\n",
    "  - The delay remains the same, meaning the model will still predict the climate conditions 144 time steps ahead (24 hours, given the 30-minute sampling).\r\n",
    "\r\n",
    "---\r\n",
    "\r\n",
    "# Generator Adjustments\r\n",
    "\r\n",
    "The generator has been adjusted to reflect the new sampling frequency (step = 3):\r\n",
    "\r\n",
    "- **Training Data Generator** (`train_gen`): \r\n",
    "  - The generator now provides samples at a finer temporal resolution, which could allow the model to capture more detailed patterns in the time-series data.\r\n",
    "  \r\n",
    "- **Validation and Test Data Generators** (`val_gen` and `test_gen`):\r\n",
    "  - The validation and test data generators have been updated to match the new step configuration, ensuring consistency across training, validation, and testing data.\r\n",
    "\r\n",
    "---\r\n",
    "\r\n",
    "# Next Steps: Experimenting with RNN and GRU\r\n",
    "\r\n",
    "Given the improvements to the sampling rate, we can now experiment with Recurrent Neural Networks (RNNs) and Gated Recurrent Units (GRUs), which are more suited for sequential data.\r\n",
    "\r\n",
    "- **RNN Model**: RNNs are designed to capture long-term dependencies in sequential data. We will test RNN layers to see if they offer improvements over the current CNN-based architecture.\r\n",
    "  \r\n",
    "- **GRU Model**: GRUs are more efficient than vanilla RNNs and help mitigate issues like vanishing gradients. We will test GRUs to see if they offer better performance and faster convergence.\r\n",
    "\r\n",
    "The changes to the data's temporal resolution (with `step = 3`) will likely provide more useful context for RNN and GRU models, which are designed to exploit such sequential dependencies.\r\n",
    "ent CNN-based model.\r\n"
   ]
  },
  {
   "cell_type": "code",
   "execution_count": 8,
   "metadata": {},
   "outputs": [],
   "source": [
    "# This was previously set to 6 (one point per hour).\n",
    "# Now 3 (one point per 30 min).\n",
    "step = 3\n",
    "lookback = 720  # Unchanged\n",
    "delay = 144 # Unchanged\n",
    "\n",
    "train_gen = generator(float_data,\n",
    "                      lookback=lookback,\n",
    "                      delay=delay,\n",
    "                      min_index=0,\n",
    "                      max_index=200000,\n",
    "                      shuffle=True,\n",
    "                      step=step)\n",
    "val_gen = generator(float_data,\n",
    "                    lookback=lookback,\n",
    "                    delay=delay,\n",
    "                    min_index=200001,\n",
    "                    max_index=300000,\n",
    "                    step=step)\n",
    "test_gen = generator(float_data,\n",
    "                     lookback=lookback,\n",
    "                     delay=delay,\n",
    "                     min_index=300001,\n",
    "                     max_index=None,\n",
    "                     step=step)\n",
    "val_steps = (300000 - 200001 - lookback) // 128\n",
    "test_steps = (len(float_data) - 300001 - lookback) // 128"
   ]
  },
  {
   "cell_type": "markdown",
   "metadata": {},
   "source": [
    "This is our model, starting with two `Conv1D` layers and following-up with a `GRU` layer:"
   ]
  },
  {
   "cell_type": "code",
   "execution_count": 9,
   "metadata": {},
   "outputs": [
    {
     "data": {
      "text/plain": [
       "(False, False)"
      ]
     },
     "execution_count": 9,
     "metadata": {},
     "output_type": "execute_result"
    }
   ],
   "source": [
    "np.isnan(float_data).any(), np.isinf(float_data).any()\n"
   ]
  },
  {
   "cell_type": "markdown",
   "metadata": {},
   "source": [
    "# Model Comparison: New Architecture vs. Old Architecture\r\n",
    "\r\n",
    "In this section, we compare the new architecture of the model, which incorporates stacked GRU layers with `return_sequences=True`, with the previous model, which lacked this important configuration. The old model faced issues with very high loss values due to incorrect handling of sequential data.\r\n",
    "\r\n",
    "---\r\n",
    "\r\n",
    "## Updated Model Architecture (With Stacked GRU Layers)\r\n",
    "\r\n",
    "The new model addresses the issues from the old model and incorporates several important changes:\r\n",
    "\r\n",
    "- **Conv1D Layers**: \r\n",
    "  - The model starts with two `Conv1D` layers with 64 filters (up from 32 in the old model) and kernel size 5. These layers help extract features from the data, detecting local patterns at various time scales.\r\n",
    "  - **MaxPooling1D**: After each convolutional layer, a max-pooling layer with a pool size of 3 is used to reduce the dimensionality and retain the most important features.\r\n",
    "  \r\n",
    "- **GRU Layers**:\r\n",
    "  - The new architecture replaces the previous single GRU layer with two stacked `GRU` layers:\r\n",
    "    - The first GRU layer has 64 units and is configured with `return_sequences=True`. This ensures that the output from this layer is a sequence of data, which is required for the next recurrent layer to learn from the entire sequence.\r\n",
    "    - The second GRU layer has 32 units and applies `dropout=0.2` to prevent overfitting.\r\n",
    "  \r\n",
    "- **Dense Layer**: \r\n",
    "  - The model ends with a dense layer with one unit to predict the output (future climate condition).\r\n",
    "  \r\n",
    "- **Optimization**:\r\n",
    "  - The model is compiled using the `RMSprop` optimizer with the loss function set to mean absolute error (`mae`), which is appropriate for regression tasks.\r\n",
    "\r\n",
    "- **Callbacks**:\r\n",
    "  - **EarlyStopping**: This callback monitors the validation loss and stops training early if the validation loss does not improve for 3 consecutive epochs. This helps prevent overfitting and reduces training time.\r\n",
    "  - **ModelCheckpoint**: This callback saves the best model based on the validation loss, ensuring that only the most effective model is retained.\r\n",
    "\r\n",
    "- **Training**:\r\n",
    "  - The model is trained for 50 epochs with 500 steps per epoch. Early stopping and model checkpointing are used to improve training efficiency and ensure that the best model is saved.\r\n",
    "\r\n",
    "---\r\n",
    "\r\n",
    "## Old Model Architecture (Issues with Loss)\r\n",
    "\r\n",
    "The old model encountered issues during training due to the lack of `return_sequences=True` in the GRU layer, which caused the loss to grow exponentially (e.g., moving into very high values such as 548,754,821,155,245,222). This was a major issue as the model failed to learn properly.\r\n",
    "\r\n",
    "- **Conv1D Layers**:\r\n",
    "  - The old model had two `Conv1D` layers with 32 filters and kernel size 5, which are fewer filters than the updated model (64 filters).\r\n",
    "  - **MaxPooling1D**: Similar to the new model, the old model also used max-pooling layers after each convolutional layer.\r\n",
    "  \r\n",
    "- **Single GRU Layer**:\r\n",
    "  - The old architecture included a single GRU layer with 32 units, configured with `dropout=0.1` and `recurrent_dropout=0.5`. However, it did not have `return_sequences=True`, which caused the output of the GRU layer to not be suitable for the next layer, leading to improper learning. This configuration caused the model's loss to grow unpredictably.\r\n",
    "\r\n",
    "- **Dense Layer**:\r\n",
    "  - Similar to the new model, the old architecture ends with a single unit in the dense layer for the output prediction.\r\n",
    "\r\n",
    "- **Training**:\r\n",
    "  - The old model was trained for 20 epochs, but it encountered significant issues with learning due to the incorrect architecture (loss growing uncontrollably). \r\n",
    "\r\n",
    "---\r\n",
    "\r\n",
    "## Key Differences and Fixes\r\n",
    "\r\n",
    "1. **Missing `return_sequences=True` in the Old Model**:\r\n",
    "   - The major issue with the old model was the absence of the `return_sequences=True` argument in the first GRU layer. Without this, the model could not properly feed sequences of data to the second GRU layer, which caused the training to fail and the loss to increase exponentially.\r\n",
    "   - In the new model, by setting `return_sequences=True` in the first GRU layer, the model can now pass the full sequence of outputs to the second GRU layer, enabling it to learn from the entire sequence properly.\r\n",
    "   \r\n",
    "2. **More Complex GRU Layers**:\r\n",
    "   - The new model uses stacked GRU layers (64 units followed by 32 units), which allows the model to capture long-term dependencies and patterns in the time-series data. The old model, with just a single GRU layer, was not able to capture the sequential patterns as effectively.\r\n",
    "\r\n",
    "3. **Regularization**:\r\n",
    "   - The new model applies `dropout` in the GRU layers, which can help prevent overfitting, especially with the increased complexity of the model. This was not applied in the old model, where the GRU layer had no such regularization (except for `recurrent_dropout`, which was not sufficient on its own).\r\n",
    "\r\n",
    "4. **Callbacks**:\r\n",
    "   - The new model uses early stopping and model checkpointing to optimize training and prevent overfitting, ensuring th---\n",
    "\n",
    " is selected based on validation performance.\r\n",
    "\r\n",
    "---\r\n",
    "\r\n",
    "# Conclusion\r\n",
    "\r\n",
    "The new model resolves the key issue of improper sequential data handling by incorporating `return_sequences=True` in the first GRU layer, which allows the second GRU layer to learn effectively from the sequence. This change, combined with stacked GRU layers, dropout regularization, and training optimizations like early stopping, should allow the model to learn better and generalize more effectively.\r\n",
    "\r\n",
    "We expect the new model to perform much better than the previous architecture and to yield stable, reasonable loss values during training.\r\n"
   ]
  },
  {
   "cell_type": "code",
   "execution_count": 10,
   "metadata": {},
   "outputs": [
    {
     "name": "stderr",
     "output_type": "stream",
     "text": [
      "C:\\Users\\Aksystems\\anaconda3\\Lib\\site-packages\\keras\\src\\layers\\convolutional\\base_conv.py:107: UserWarning: Do not pass an `input_shape`/`input_dim` argument to a layer. When using Sequential models, prefer using an `Input(shape)` object as the first layer in the model instead.\n",
      "  super().__init__(activity_regularizer=activity_regularizer, **kwargs)\n"
     ]
    },
    {
     "data": {
      "text/html": [
       "<pre style=\"white-space:pre;overflow-x:auto;line-height:normal;font-family:Menlo,'DejaVu Sans Mono',consolas,'Courier New',monospace\"><span style=\"font-weight: bold\">Model: \"sequential_1\"</span>\n",
       "</pre>\n"
      ],
      "text/plain": [
       "\u001b[1mModel: \"sequential_1\"\u001b[0m\n"
      ]
     },
     "metadata": {},
     "output_type": "display_data"
    },
    {
     "data": {
      "text/html": [
       "<pre style=\"white-space:pre;overflow-x:auto;line-height:normal;font-family:Menlo,'DejaVu Sans Mono',consolas,'Courier New',monospace\">┏━━━━━━━━━━━━━━━━━━━━━━━━━━━━━━━━━━━━━━┳━━━━━━━━━━━━━━━━━━━━━━━━━━━━━┳━━━━━━━━━━━━━━━━━┓\n",
       "┃<span style=\"font-weight: bold\"> Layer (type)                         </span>┃<span style=\"font-weight: bold\"> Output Shape                </span>┃<span style=\"font-weight: bold\">         Param # </span>┃\n",
       "┡━━━━━━━━━━━━━━━━━━━━━━━━━━━━━━━━━━━━━━╇━━━━━━━━━━━━━━━━━━━━━━━━━━━━━╇━━━━━━━━━━━━━━━━━┩\n",
       "│ conv1d_3 (<span style=\"color: #0087ff; text-decoration-color: #0087ff\">Conv1D</span>)                    │ (<span style=\"color: #00d7ff; text-decoration-color: #00d7ff\">None</span>, <span style=\"color: #00d7ff; text-decoration-color: #00d7ff\">None</span>, <span style=\"color: #00af00; text-decoration-color: #00af00\">64</span>)            │           <span style=\"color: #00af00; text-decoration-color: #00af00\">4,544</span> │\n",
       "├──────────────────────────────────────┼─────────────────────────────┼─────────────────┤\n",
       "│ max_pooling1d_2 (<span style=\"color: #0087ff; text-decoration-color: #0087ff\">MaxPooling1D</span>)       │ (<span style=\"color: #00d7ff; text-decoration-color: #00d7ff\">None</span>, <span style=\"color: #00d7ff; text-decoration-color: #00d7ff\">None</span>, <span style=\"color: #00af00; text-decoration-color: #00af00\">64</span>)            │               <span style=\"color: #00af00; text-decoration-color: #00af00\">0</span> │\n",
       "├──────────────────────────────────────┼─────────────────────────────┼─────────────────┤\n",
       "│ conv1d_4 (<span style=\"color: #0087ff; text-decoration-color: #0087ff\">Conv1D</span>)                    │ (<span style=\"color: #00d7ff; text-decoration-color: #00d7ff\">None</span>, <span style=\"color: #00d7ff; text-decoration-color: #00d7ff\">None</span>, <span style=\"color: #00af00; text-decoration-color: #00af00\">64</span>)            │          <span style=\"color: #00af00; text-decoration-color: #00af00\">20,544</span> │\n",
       "├──────────────────────────────────────┼─────────────────────────────┼─────────────────┤\n",
       "│ max_pooling1d_3 (<span style=\"color: #0087ff; text-decoration-color: #0087ff\">MaxPooling1D</span>)       │ (<span style=\"color: #00d7ff; text-decoration-color: #00d7ff\">None</span>, <span style=\"color: #00d7ff; text-decoration-color: #00d7ff\">None</span>, <span style=\"color: #00af00; text-decoration-color: #00af00\">64</span>)            │               <span style=\"color: #00af00; text-decoration-color: #00af00\">0</span> │\n",
       "├──────────────────────────────────────┼─────────────────────────────┼─────────────────┤\n",
       "│ gru (<span style=\"color: #0087ff; text-decoration-color: #0087ff\">GRU</span>)                            │ (<span style=\"color: #00d7ff; text-decoration-color: #00d7ff\">None</span>, <span style=\"color: #00d7ff; text-decoration-color: #00d7ff\">None</span>, <span style=\"color: #00af00; text-decoration-color: #00af00\">64</span>)            │          <span style=\"color: #00af00; text-decoration-color: #00af00\">24,960</span> │\n",
       "├──────────────────────────────────────┼─────────────────────────────┼─────────────────┤\n",
       "│ gru_1 (<span style=\"color: #0087ff; text-decoration-color: #0087ff\">GRU</span>)                          │ (<span style=\"color: #00d7ff; text-decoration-color: #00d7ff\">None</span>, <span style=\"color: #00af00; text-decoration-color: #00af00\">32</span>)                  │           <span style=\"color: #00af00; text-decoration-color: #00af00\">9,408</span> │\n",
       "├──────────────────────────────────────┼─────────────────────────────┼─────────────────┤\n",
       "│ dense_1 (<span style=\"color: #0087ff; text-decoration-color: #0087ff\">Dense</span>)                      │ (<span style=\"color: #00d7ff; text-decoration-color: #00d7ff\">None</span>, <span style=\"color: #00af00; text-decoration-color: #00af00\">1</span>)                   │              <span style=\"color: #00af00; text-decoration-color: #00af00\">33</span> │\n",
       "└──────────────────────────────────────┴─────────────────────────────┴─────────────────┘\n",
       "</pre>\n"
      ],
      "text/plain": [
       "┏━━━━━━━━━━━━━━━━━━━━━━━━━━━━━━━━━━━━━━┳━━━━━━━━━━━━━━━━━━━━━━━━━━━━━┳━━━━━━━━━━━━━━━━━┓\n",
       "┃\u001b[1m \u001b[0m\u001b[1mLayer (type)                        \u001b[0m\u001b[1m \u001b[0m┃\u001b[1m \u001b[0m\u001b[1mOutput Shape               \u001b[0m\u001b[1m \u001b[0m┃\u001b[1m \u001b[0m\u001b[1m        Param #\u001b[0m\u001b[1m \u001b[0m┃\n",
       "┡━━━━━━━━━━━━━━━━━━━━━━━━━━━━━━━━━━━━━━╇━━━━━━━━━━━━━━━━━━━━━━━━━━━━━╇━━━━━━━━━━━━━━━━━┩\n",
       "│ conv1d_3 (\u001b[38;5;33mConv1D\u001b[0m)                    │ (\u001b[38;5;45mNone\u001b[0m, \u001b[38;5;45mNone\u001b[0m, \u001b[38;5;34m64\u001b[0m)            │           \u001b[38;5;34m4,544\u001b[0m │\n",
       "├──────────────────────────────────────┼─────────────────────────────┼─────────────────┤\n",
       "│ max_pooling1d_2 (\u001b[38;5;33mMaxPooling1D\u001b[0m)       │ (\u001b[38;5;45mNone\u001b[0m, \u001b[38;5;45mNone\u001b[0m, \u001b[38;5;34m64\u001b[0m)            │               \u001b[38;5;34m0\u001b[0m │\n",
       "├──────────────────────────────────────┼─────────────────────────────┼─────────────────┤\n",
       "│ conv1d_4 (\u001b[38;5;33mConv1D\u001b[0m)                    │ (\u001b[38;5;45mNone\u001b[0m, \u001b[38;5;45mNone\u001b[0m, \u001b[38;5;34m64\u001b[0m)            │          \u001b[38;5;34m20,544\u001b[0m │\n",
       "├──────────────────────────────────────┼─────────────────────────────┼─────────────────┤\n",
       "│ max_pooling1d_3 (\u001b[38;5;33mMaxPooling1D\u001b[0m)       │ (\u001b[38;5;45mNone\u001b[0m, \u001b[38;5;45mNone\u001b[0m, \u001b[38;5;34m64\u001b[0m)            │               \u001b[38;5;34m0\u001b[0m │\n",
       "├──────────────────────────────────────┼─────────────────────────────┼─────────────────┤\n",
       "│ gru (\u001b[38;5;33mGRU\u001b[0m)                            │ (\u001b[38;5;45mNone\u001b[0m, \u001b[38;5;45mNone\u001b[0m, \u001b[38;5;34m64\u001b[0m)            │          \u001b[38;5;34m24,960\u001b[0m │\n",
       "├──────────────────────────────────────┼─────────────────────────────┼─────────────────┤\n",
       "│ gru_1 (\u001b[38;5;33mGRU\u001b[0m)                          │ (\u001b[38;5;45mNone\u001b[0m, \u001b[38;5;34m32\u001b[0m)                  │           \u001b[38;5;34m9,408\u001b[0m │\n",
       "├──────────────────────────────────────┼─────────────────────────────┼─────────────────┤\n",
       "│ dense_1 (\u001b[38;5;33mDense\u001b[0m)                      │ (\u001b[38;5;45mNone\u001b[0m, \u001b[38;5;34m1\u001b[0m)                   │              \u001b[38;5;34m33\u001b[0m │\n",
       "└──────────────────────────────────────┴─────────────────────────────┴─────────────────┘\n"
      ]
     },
     "metadata": {},
     "output_type": "display_data"
    },
    {
     "data": {
      "text/html": [
       "<pre style=\"white-space:pre;overflow-x:auto;line-height:normal;font-family:Menlo,'DejaVu Sans Mono',consolas,'Courier New',monospace\"><span style=\"font-weight: bold\"> Total params: </span><span style=\"color: #00af00; text-decoration-color: #00af00\">59,489</span> (232.38 KB)\n",
       "</pre>\n"
      ],
      "text/plain": [
       "\u001b[1m Total params: \u001b[0m\u001b[38;5;34m59,489\u001b[0m (232.38 KB)\n"
      ]
     },
     "metadata": {},
     "output_type": "display_data"
    },
    {
     "data": {
      "text/html": [
       "<pre style=\"white-space:pre;overflow-x:auto;line-height:normal;font-family:Menlo,'DejaVu Sans Mono',consolas,'Courier New',monospace\"><span style=\"font-weight: bold\"> Trainable params: </span><span style=\"color: #00af00; text-decoration-color: #00af00\">59,489</span> (232.38 KB)\n",
       "</pre>\n"
      ],
      "text/plain": [
       "\u001b[1m Trainable params: \u001b[0m\u001b[38;5;34m59,489\u001b[0m (232.38 KB)\n"
      ]
     },
     "metadata": {},
     "output_type": "display_data"
    },
    {
     "data": {
      "text/html": [
       "<pre style=\"white-space:pre;overflow-x:auto;line-height:normal;font-family:Menlo,'DejaVu Sans Mono',consolas,'Courier New',monospace\"><span style=\"font-weight: bold\"> Non-trainable params: </span><span style=\"color: #00af00; text-decoration-color: #00af00\">0</span> (0.00 B)\n",
       "</pre>\n"
      ],
      "text/plain": [
       "\u001b[1m Non-trainable params: \u001b[0m\u001b[38;5;34m0\u001b[0m (0.00 B)\n"
      ]
     },
     "metadata": {},
     "output_type": "display_data"
    }
   ],
   "source": [
    "model = Sequential()\n",
    "model.add(layers.Conv1D(64, 5, activation='relu', input_shape=(None, float_data.shape[-1])))\n",
    "model.add(layers.MaxPooling1D(3))\n",
    "model.add(layers.Conv1D(64, 5, activation='relu'))\n",
    "model.add(layers.MaxPooling1D(3))\n",
    "model.add(layers.GRU(64, return_sequences=True, dropout=0.3))\n",
    "model.add(layers.GRU(32, dropout=0.2))\n",
    "model.add(layers.Dense(1))\n",
    "\n",
    "model.compile(optimizer=RMSprop(), loss='mae')\n",
    "\n",
    "model.summary()"
   ]
  },
  {
   "cell_type": "code",
   "execution_count": 11,
   "metadata": {},
   "outputs": [
    {
     "name": "stdout",
     "output_type": "stream",
     "text": [
      "Epoch 1/50\n",
      "\u001b[1m500/500\u001b[0m \u001b[32m━━━━━━━━━━━━━━━━━━━━\u001b[0m\u001b[37m\u001b[0m \u001b[1m0s\u001b[0m 116ms/step - loss: 0.4164\n",
      "Epoch 1: val_loss improved from inf to 0.30970, saving model to best_model.keras\n",
      "\u001b[1m500/500\u001b[0m \u001b[32m━━━━━━━━━━━━━━━━━━━━\u001b[0m\u001b[37m\u001b[0m \u001b[1m107s\u001b[0m 193ms/step - loss: 0.4163 - val_loss: 0.3097\n",
      "Epoch 2/50\n",
      "\u001b[1m500/500\u001b[0m \u001b[32m━━━━━━━━━━━━━━━━━━━━\u001b[0m\u001b[37m\u001b[0m \u001b[1m0s\u001b[0m 100ms/step - loss: 0.3291\n",
      "Epoch 2: val_loss did not improve from 0.30970\n",
      "\u001b[1m500/500\u001b[0m \u001b[32m━━━━━━━━━━━━━━━━━━━━\u001b[0m\u001b[37m\u001b[0m \u001b[1m76s\u001b[0m 153ms/step - loss: 0.3291 - val_loss: 0.3169\n",
      "Epoch 3/50\n",
      "\u001b[1m500/500\u001b[0m \u001b[32m━━━━━━━━━━━━━━━━━━━━\u001b[0m\u001b[37m\u001b[0m \u001b[1m0s\u001b[0m 99ms/step - loss: 0.3062\n",
      "Epoch 3: val_loss did not improve from 0.30970\n",
      "\u001b[1m500/500\u001b[0m \u001b[32m━━━━━━━━━━━━━━━━━━━━\u001b[0m\u001b[37m\u001b[0m \u001b[1m77s\u001b[0m 155ms/step - loss: 0.3062 - val_loss: 0.3111\n",
      "Epoch 4/50\n",
      "\u001b[1m500/500\u001b[0m \u001b[32m━━━━━━━━━━━━━━━━━━━━\u001b[0m\u001b[37m\u001b[0m \u001b[1m0s\u001b[0m 97ms/step - loss: 0.2909\n",
      "Epoch 4: val_loss did not improve from 0.30970\n",
      "\u001b[1m500/500\u001b[0m \u001b[32m━━━━━━━━━━━━━━━━━━━━\u001b[0m\u001b[37m\u001b[0m \u001b[1m74s\u001b[0m 148ms/step - loss: 0.2909 - val_loss: 0.3312\n",
      "Epoch 4: early stopping\n",
      "Restoring model weights from the end of the best epoch: 1.\n"
     ]
    }
   ],
   "source": [
    "from keras.callbacks import EarlyStopping, ModelCheckpoint\n",
    "\n",
    "# Early stopping callback\n",
    "early_stopping = EarlyStopping(monitor='val_loss',    \n",
    "                               patience = 3,            \n",
    "                               verbose = 1,      \n",
    "                               restore_best_weights = True)  \n",
    "\n",
    "# Model checkpoint callback to save the best model\n",
    "checkpoint = ModelCheckpoint('best_model.keras',      \n",
    "                              monitor='val_loss',  \n",
    "                              save_best_only=True,  # Only save the best model\n",
    "                              verbose=1)          \n",
    "\n",
    "# Train the model with callbacks\n",
    "history = model.fit(\n",
    "    train_gen,\n",
    "    steps_per_epoch=500,\n",
    "    epochs = 50,\n",
    "    validation_data=val_gen,\n",
    "    validation_steps=val_steps,\n",
    "    callbacks=[early_stopping, checkpoint]  # Add the callbacks here\n",
    ")\n"
   ]
  },
  {
   "cell_type": "code",
   "execution_count": 12,
   "metadata": {},
   "outputs": [
    {
     "data": {
      "image/png": "[encoded data removed]",
      "text/plain": [
       "<Figure size 640x480 with 1 Axes>"
      ]
     },
     "metadata": {},
     "output_type": "display_data"
    }
   ],
   "source": [
    "loss = history.history['loss']\n",
    "val_loss = history.history['val_loss']\n",
    "\n",
    "epochs = range(len(loss))\n",
    "\n",
    "plt.figure()\n",
    "\n",
    "plt.plot(epochs, loss, 'bo', label='Training loss')\n",
    "plt.plot(epochs, val_loss, 'b', label='Validation loss')\n",
    "plt.title('Training and validation loss')\n",
    "plt.legend()\n",
    "\n",
    "plt.show()"
   ]
  },
  {
   "cell_type": "code",
   "execution_count": 32,
   "metadata": {},
   "outputs": [
    {
     "data": {
      "image/png": "[encoded data removed]",
      "text/plain": [
       "<Figure size 800x600 with 1 Axes>"
      ]
     },
     "metadata": {},
     "output_type": "display_data"
    }
   ],
   "source": [
    "import matplotlib.pyplot as plt\n",
    "\n",
    "# Extract the loss history\n",
    "loss = history.history['loss']\n",
    "val_loss = history.history['val_loss']\n",
    "\n",
    "# Create a range for epochs\n",
    "epochs = range(1, len(loss) + 1)\n",
    "\n",
    "# Plot the training and validation loss\n",
    "plt.figure(figsize=(8, 6))\n",
    "plt.plot(epochs, loss, 'bo-', label='Training Loss')\n",
    "plt.plot(epochs, val_loss, 'r*-', label='Validation Loss')\n",
    "plt.title('Training and Validation Loss')\n",
    "plt.xlabel('Epochs')\n",
    "plt.ylabel('Mean Absolute Error (MAE)')\n",
    "plt.legend()\n",
    "plt.grid(True)\n",
    "plt.show()\n"
   ]
  },
  {
   "cell_type": "markdown",
   "metadata": {},
   "source": [
    "Judging from the validation loss, this setup is not quite as good as the regularized GRU alone, but it's significantly faster. It is \n",
    "looking at twice more data, which in this case doesn't appear to be hugely helpful, but may be important for other datasets."
   ]
  },
  {
   "cell_type": "markdown",
   "metadata": {},
   "source": [
    "\n",
    ".# Model Training Results\n",
    "\n",
    "After training the model for 4 epochs, we observe the following progress:\n",
    "\n",
    "---\n",
    "\n",
    "## Training Progress:\n",
    "\n",
    "- **Epoch 1:**\n",
    "  - Loss: 0.4164\n",
    "  - Validation Loss: 0.3097\n",
    "  - The model improved significantly from the initial random weights, and the validation loss showed improvement, so the model was saved.\n",
    "\n",
    "- **Epoch 2:**\n",
    "  - Loss: 0.3291\n",
    "  - Validation Loss: 0.3169\n",
    "  - The validation loss did not improve from the previous epoch, indicating that the model had reached a plateau.\n",
    "\n",
    "- **Epoch 3:**\n",
    "  - Loss: 0.3062\n",
    "  - Validation Loss: 0.3111\n",
    "  - The validation loss remained roughly the same as Epoch 2, suggesting no further improvement.\n",
    "\n",
    "- **Epoch 4:**\n",
    "  - Loss: 0.2909\n",
    "  - Validation Loss: 0.3312\n",
    "  - There was a slight increase in validation loss, which signaled potential overfitting as the training loss kept improving but validation loss worsened slightly.\n",
    "\n",
    "---\n",
    "\n",
    "## Early Stopping:\n",
    "\n",
    "- **Early Stopping Triggered**: The `early_stopping` callback was triggered at the end of Epoch 4 since the validation loss did not improve after Epoch 1. \n",
    "- **Restored Best Model**: The weights from the best epoch (Epoch 1) were restored, ensuring that we keep the model with the lowest validation loss.\n",
    "\n",
    "---\n",
    "\n",
    "## Summary:\n",
    "\n",
    "- The model performed well initially, with a significant reduction in loss from Epoch 1 to Epoch 2, but it reached a plateau in terms of validation loss.\n",
    "- Early stopping prevented further overfitting by halting training at Epoch 4.\n",
    "- The best model, with the lowest validation loss of 0.3097, has been saved and will be used for future predictions or evaluation.\n",
    "\n",
    "---\n",
    "\n",
    "## Next Steps:\n",
    "\n",
    "- **Evaluate the Best Model**: Use the saved model to evaluate its performance on the test set to check if the model generalizes well to unseen data.\n",
    "- **Hyperparameter Tuning**: Experiment with different hyperparameters (e.g., increasing the number of GRU units or changing the dropout rates) to further optimize the model.\n",
    "- **Future Improvements**: Explore additional regularization techniques (such as L2 regularization) or a different architecture like a hybrid CNN-RNN model for potentially better performance.\n",
    "\n",
    "---\n",
    "\n",
    "By implementing early stopping and saving the best model, we have ensured that we don't overtrain the model and preserve its best configuration for further evaluation.\n"
   ]
  },
  {
   "cell_type": "code",
   "execution_count": null,
   "metadata": {},
   "outputs": [],
   "source": []
  }
 ],
 "metadata": {
  "kernelspec": {
   "display_name": "Python 3 (ipykernel)",
   "language": "python",
   "name": "python3"
  },
  "language_info": {
   "codemirror_mode": {
    "name": "ipython",
    "version": 3
   },
   "file_extension": ".py",
   "mimetype": "text/x-python",
   "name": "python",
   "nbconvert_exporter": "python",
   "pygments_lexer": "ipython3",
   "version": "3.12.4"
  }
 },
 "nbformat": 4,
 "nbformat_minor": 4
}
